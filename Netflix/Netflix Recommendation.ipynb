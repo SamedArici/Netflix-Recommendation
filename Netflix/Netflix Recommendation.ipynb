{
 "cells": [
  {
   "cell_type": "code",
   "execution_count": 1,
   "id": "3b6d19b4",
   "metadata": {},
   "outputs": [],
   "source": [
    "import pandas as pd"
   ]
  },
  {
   "cell_type": "code",
   "execution_count": 2,
   "id": "f13295c3",
   "metadata": {},
   "outputs": [
    {
     "data": {
      "text/html": [
       "<div>\n",
       "<style scoped>\n",
       "    .dataframe tbody tr th:only-of-type {\n",
       "        vertical-align: middle;\n",
       "    }\n",
       "\n",
       "    .dataframe tbody tr th {\n",
       "        vertical-align: top;\n",
       "    }\n",
       "\n",
       "    .dataframe thead th {\n",
       "        text-align: right;\n",
       "    }\n",
       "</style>\n",
       "<table border=\"1\" class=\"dataframe\">\n",
       "  <thead>\n",
       "    <tr style=\"text-align: right;\">\n",
       "      <th></th>\n",
       "      <th>show_id</th>\n",
       "      <th>type</th>\n",
       "      <th>title</th>\n",
       "      <th>director</th>\n",
       "      <th>cast</th>\n",
       "      <th>country</th>\n",
       "      <th>date_added</th>\n",
       "      <th>release_year</th>\n",
       "      <th>rating</th>\n",
       "      <th>duration</th>\n",
       "      <th>genres</th>\n",
       "      <th>description</th>\n",
       "    </tr>\n",
       "  </thead>\n",
       "  <tbody>\n",
       "    <tr>\n",
       "      <th>0</th>\n",
       "      <td>s1</td>\n",
       "      <td>TV Show</td>\n",
       "      <td>3%</td>\n",
       "      <td>NaN</td>\n",
       "      <td>João Miguel, Bianca Comparato, Michel Gomes, R...</td>\n",
       "      <td>Brazil</td>\n",
       "      <td>14-Aug-20</td>\n",
       "      <td>2020</td>\n",
       "      <td>TV-MA</td>\n",
       "      <td>4</td>\n",
       "      <td>International TV Shows, TV Dramas, TV Sci-Fi &amp;...</td>\n",
       "      <td>In a future where the elite inhabit an island ...</td>\n",
       "    </tr>\n",
       "    <tr>\n",
       "      <th>1</th>\n",
       "      <td>s10</td>\n",
       "      <td>Movie</td>\n",
       "      <td>1920</td>\n",
       "      <td>Vikram Bhatt</td>\n",
       "      <td>Rajneesh Duggal, Adah Sharma, Indraneil Sengup...</td>\n",
       "      <td>India</td>\n",
       "      <td>15-Dec-17</td>\n",
       "      <td>2008</td>\n",
       "      <td>TV-MA</td>\n",
       "      <td>143</td>\n",
       "      <td>Horror Movies, International Movies, Thrillers</td>\n",
       "      <td>An architect and his wife move into a castle t...</td>\n",
       "    </tr>\n",
       "    <tr>\n",
       "      <th>2</th>\n",
       "      <td>s100</td>\n",
       "      <td>Movie</td>\n",
       "      <td>3 Heroines</td>\n",
       "      <td>Iman Brotoseno</td>\n",
       "      <td>Reza Rahadian, Bunga Citra Lestari, Tara Basro...</td>\n",
       "      <td>Indonesia</td>\n",
       "      <td>5-Jan-19</td>\n",
       "      <td>2016</td>\n",
       "      <td>TV-PG</td>\n",
       "      <td>124</td>\n",
       "      <td>Dramas, International Movies, Sports Movies</td>\n",
       "      <td>Three Indonesian women break records by becomi...</td>\n",
       "    </tr>\n",
       "    <tr>\n",
       "      <th>3</th>\n",
       "      <td>s1000</td>\n",
       "      <td>Movie</td>\n",
       "      <td>Blue Mountain State: The Rise of Thadland</td>\n",
       "      <td>Lev L. Spiro</td>\n",
       "      <td>Alan Ritchson, Darin Brooks, James Cade, Rob R...</td>\n",
       "      <td>United States</td>\n",
       "      <td>1-Mar-16</td>\n",
       "      <td>2016</td>\n",
       "      <td>R</td>\n",
       "      <td>90</td>\n",
       "      <td>Comedies</td>\n",
       "      <td>New NFL star Thad buys his old teammates' belo...</td>\n",
       "    </tr>\n",
       "    <tr>\n",
       "      <th>4</th>\n",
       "      <td>s1001</td>\n",
       "      <td>TV Show</td>\n",
       "      <td>Blue Planet II</td>\n",
       "      <td>NaN</td>\n",
       "      <td>David Attenborough</td>\n",
       "      <td>United Kingdom</td>\n",
       "      <td>3-Dec-18</td>\n",
       "      <td>2017</td>\n",
       "      <td>TV-G</td>\n",
       "      <td>1</td>\n",
       "      <td>British TV Shows, Docuseries, Science &amp; Nature TV</td>\n",
       "      <td>This sequel to the award-winning nature series...</td>\n",
       "    </tr>\n",
       "  </tbody>\n",
       "</table>\n",
       "</div>"
      ],
      "text/plain": [
       "  show_id     type                                      title        director  \\\n",
       "0      s1  TV Show                                         3%             NaN   \n",
       "1     s10    Movie                                       1920    Vikram Bhatt   \n",
       "2    s100    Movie                                 3 Heroines  Iman Brotoseno   \n",
       "3   s1000    Movie  Blue Mountain State: The Rise of Thadland    Lev L. Spiro   \n",
       "4   s1001  TV Show                             Blue Planet II             NaN   \n",
       "\n",
       "                                                cast         country  \\\n",
       "0  João Miguel, Bianca Comparato, Michel Gomes, R...          Brazil   \n",
       "1  Rajneesh Duggal, Adah Sharma, Indraneil Sengup...           India   \n",
       "2  Reza Rahadian, Bunga Citra Lestari, Tara Basro...       Indonesia   \n",
       "3  Alan Ritchson, Darin Brooks, James Cade, Rob R...   United States   \n",
       "4                                 David Attenborough  United Kingdom   \n",
       "\n",
       "  date_added  release_year rating  duration  \\\n",
       "0  14-Aug-20          2020  TV-MA         4   \n",
       "1  15-Dec-17          2008  TV-MA       143   \n",
       "2   5-Jan-19          2016  TV-PG       124   \n",
       "3   1-Mar-16          2016      R        90   \n",
       "4   3-Dec-18          2017   TV-G         1   \n",
       "\n",
       "                                              genres  \\\n",
       "0  International TV Shows, TV Dramas, TV Sci-Fi &...   \n",
       "1     Horror Movies, International Movies, Thrillers   \n",
       "2        Dramas, International Movies, Sports Movies   \n",
       "3                                           Comedies   \n",
       "4  British TV Shows, Docuseries, Science & Nature TV   \n",
       "\n",
       "                                         description  \n",
       "0  In a future where the elite inhabit an island ...  \n",
       "1  An architect and his wife move into a castle t...  \n",
       "2  Three Indonesian women break records by becomi...  \n",
       "3  New NFL star Thad buys his old teammates' belo...  \n",
       "4  This sequel to the award-winning nature series...  "
      ]
     },
     "execution_count": 2,
     "metadata": {},
     "output_type": "execute_result"
    }
   ],
   "source": [
    "df = pd.read_csv('NetFlix.csv')\n",
    "df.head()"
   ]
  },
  {
   "cell_type": "code",
   "execution_count": 3,
   "id": "77351165",
   "metadata": {},
   "outputs": [
    {
     "data": {
      "text/plain": [
       "(7787, 12)"
      ]
     },
     "execution_count": 3,
     "metadata": {},
     "output_type": "execute_result"
    }
   ],
   "source": [
    "df.shape"
   ]
  },
  {
   "cell_type": "code",
   "execution_count": 4,
   "id": "60acb5e1",
   "metadata": {},
   "outputs": [
    {
     "data": {
      "text/plain": [
       "7787"
      ]
     },
     "execution_count": 4,
     "metadata": {},
     "output_type": "execute_result"
    }
   ],
   "source": [
    "df.title.nunique()"
   ]
  },
  {
   "cell_type": "code",
   "execution_count": 5,
   "id": "e8de338c",
   "metadata": {},
   "outputs": [
    {
     "data": {
      "text/plain": [
       "14"
      ]
     },
     "execution_count": 5,
     "metadata": {},
     "output_type": "execute_result"
    }
   ],
   "source": [
    "df.rating.nunique()"
   ]
  },
  {
   "cell_type": "code",
   "execution_count": 6,
   "id": "9251a336",
   "metadata": {},
   "outputs": [
    {
     "name": "stdout",
     "output_type": "stream",
     "text": [
      "<class 'pandas.core.frame.DataFrame'>\n",
      "RangeIndex: 7787 entries, 0 to 7786\n",
      "Data columns (total 12 columns):\n",
      " #   Column        Non-Null Count  Dtype \n",
      "---  ------        --------------  ----- \n",
      " 0   show_id       7787 non-null   object\n",
      " 1   type          7787 non-null   object\n",
      " 2   title         7787 non-null   object\n",
      " 3   director      5398 non-null   object\n",
      " 4   cast          7069 non-null   object\n",
      " 5   country       7280 non-null   object\n",
      " 6   date_added    7777 non-null   object\n",
      " 7   release_year  7787 non-null   int64 \n",
      " 8   rating        7780 non-null   object\n",
      " 9   duration      7787 non-null   int64 \n",
      " 10  genres        7787 non-null   object\n",
      " 11  description   7787 non-null   object\n",
      "dtypes: int64(2), object(10)\n",
      "memory usage: 730.2+ KB\n"
     ]
    }
   ],
   "source": [
    "df.info()"
   ]
  },
  {
   "cell_type": "code",
   "execution_count": 7,
   "id": "3b0484f9",
   "metadata": {},
   "outputs": [
    {
     "data": {
      "text/plain": [
       "show_id            0\n",
       "type               0\n",
       "title              0\n",
       "director        2389\n",
       "cast             718\n",
       "country          507\n",
       "date_added        10\n",
       "release_year       0\n",
       "rating             7\n",
       "duration           0\n",
       "genres             0\n",
       "description        0\n",
       "dtype: int64"
      ]
     },
     "execution_count": 7,
     "metadata": {},
     "output_type": "execute_result"
    }
   ],
   "source": [
    "df.isnull().sum()"
   ]
  },
  {
   "cell_type": "code",
   "execution_count": 8,
   "id": "2f7eb597",
   "metadata": {},
   "outputs": [],
   "source": [
    "df.rating.fillna(df.loc[max(df.rating.value_counts())].rating,inplace = True)\n",
    "\n",
    "df.description = df.description.apply(lambda x: x.lower())"
   ]
  },
  {
   "cell_type": "code",
   "execution_count": 9,
   "id": "d1459864",
   "metadata": {},
   "outputs": [],
   "source": [
    "newdf = df[['show_id','type','title','director','cast','rating','genres','description']].copy()"
   ]
  },
  {
   "cell_type": "code",
   "execution_count": 10,
   "id": "c3f27b19",
   "metadata": {},
   "outputs": [
    {
     "data": {
      "text/html": [
       "<div>\n",
       "<style scoped>\n",
       "    .dataframe tbody tr th:only-of-type {\n",
       "        vertical-align: middle;\n",
       "    }\n",
       "\n",
       "    .dataframe tbody tr th {\n",
       "        vertical-align: top;\n",
       "    }\n",
       "\n",
       "    .dataframe thead th {\n",
       "        text-align: right;\n",
       "    }\n",
       "</style>\n",
       "<table border=\"1\" class=\"dataframe\">\n",
       "  <thead>\n",
       "    <tr style=\"text-align: right;\">\n",
       "      <th></th>\n",
       "      <th>show_id</th>\n",
       "      <th>type</th>\n",
       "      <th>title</th>\n",
       "      <th>director</th>\n",
       "      <th>cast</th>\n",
       "      <th>rating</th>\n",
       "      <th>genres</th>\n",
       "      <th>description</th>\n",
       "    </tr>\n",
       "  </thead>\n",
       "  <tbody>\n",
       "    <tr>\n",
       "      <th>0</th>\n",
       "      <td>s1</td>\n",
       "      <td>TV Show</td>\n",
       "      <td>3%</td>\n",
       "      <td>NaN</td>\n",
       "      <td>João Miguel, Bianca Comparato, Michel Gomes, R...</td>\n",
       "      <td>TV-MA</td>\n",
       "      <td>International TV Shows, TV Dramas, TV Sci-Fi &amp;...</td>\n",
       "      <td>in a future where the elite inhabit an island ...</td>\n",
       "    </tr>\n",
       "  </tbody>\n",
       "</table>\n",
       "</div>"
      ],
      "text/plain": [
       "  show_id     type title director  \\\n",
       "0      s1  TV Show    3%      NaN   \n",
       "\n",
       "                                                cast rating  \\\n",
       "0  João Miguel, Bianca Comparato, Michel Gomes, R...  TV-MA   \n",
       "\n",
       "                                              genres  \\\n",
       "0  International TV Shows, TV Dramas, TV Sci-Fi &...   \n",
       "\n",
       "                                         description  \n",
       "0  in a future where the elite inhabit an island ...  "
      ]
     },
     "execution_count": 10,
     "metadata": {},
     "output_type": "execute_result"
    }
   ],
   "source": [
    "newdf.head(1)"
   ]
  },
  {
   "cell_type": "code",
   "execution_count": 11,
   "id": "62d4e116",
   "metadata": {},
   "outputs": [],
   "source": [
    "def edit_text(x):\n",
    "    if str(x) == 'nan':\n",
    "        return ''\n",
    "    text_list = x.strip().split(',')\n",
    "    \n",
    "    for j,i in enumerate(text_list,start = 0):\n",
    "        i = i.replace(' ','')\n",
    "        text_list[j] = i\n",
    "    \n",
    "    return ' '.join(text_list)"
   ]
  },
  {
   "cell_type": "code",
   "execution_count": 12,
   "id": "09317afe",
   "metadata": {},
   "outputs": [],
   "source": [
    "newdf.cast = newdf.cast.apply(edit_text)\n",
    "\n",
    "newdf.genres = newdf.genres.apply(edit_text)\n",
    "\n",
    "newdf.director = newdf.director.apply(lambda x: x.replace(' ','') if str(x) != 'nan' else '')\n",
    "\n",
    "newdf.rating = newdf.rating.apply(lambda x: x.replace('-','') if str(x) != 'nan' else '')\n",
    "\n",
    "newdf['tags'] = newdf.description + ' '+newdf.genres + ' '+ newdf.director + ' ' + newdf.cast + ' ' +newdf.rating+ ' ' +df.type"
   ]
  },
  {
   "cell_type": "code",
   "execution_count": 13,
   "id": "b7979edb",
   "metadata": {},
   "outputs": [
    {
     "data": {
      "text/plain": [
       "'in a future where the elite inhabit an island paradise far from the crowded slums, you get one chance to join the 3% saved from squalor. InternationalTVShows TVDramas TVSci-Fi&Fantasy  JoãoMiguel BiancaComparato MichelGomes RodolfoValente VanezaOliveira RafaelLozano VivianePorto MelFronckowiak SergioMamberti ZezéMotta CelsoFrateschi TVMA TV Show'"
      ]
     },
     "execution_count": 13,
     "metadata": {},
     "output_type": "execute_result"
    }
   ],
   "source": [
    "newdf.tags[0]"
   ]
  },
  {
   "cell_type": "code",
   "execution_count": 14,
   "id": "faf47e49",
   "metadata": {},
   "outputs": [],
   "source": [
    "movies = newdf[['show_id','title','tags']].copy()"
   ]
  },
  {
   "cell_type": "code",
   "execution_count": 15,
   "id": "3449858b",
   "metadata": {},
   "outputs": [
    {
     "data": {
      "text/html": [
       "<div>\n",
       "<style scoped>\n",
       "    .dataframe tbody tr th:only-of-type {\n",
       "        vertical-align: middle;\n",
       "    }\n",
       "\n",
       "    .dataframe tbody tr th {\n",
       "        vertical-align: top;\n",
       "    }\n",
       "\n",
       "    .dataframe thead th {\n",
       "        text-align: right;\n",
       "    }\n",
       "</style>\n",
       "<table border=\"1\" class=\"dataframe\">\n",
       "  <thead>\n",
       "    <tr style=\"text-align: right;\">\n",
       "      <th></th>\n",
       "      <th>show_id</th>\n",
       "      <th>title</th>\n",
       "      <th>tags</th>\n",
       "    </tr>\n",
       "  </thead>\n",
       "  <tbody>\n",
       "    <tr>\n",
       "      <th>0</th>\n",
       "      <td>s1</td>\n",
       "      <td>3%</td>\n",
       "      <td>in a future where the elite inhabit an island ...</td>\n",
       "    </tr>\n",
       "    <tr>\n",
       "      <th>1</th>\n",
       "      <td>s10</td>\n",
       "      <td>1920</td>\n",
       "      <td>an architect and his wife move into a castle t...</td>\n",
       "    </tr>\n",
       "    <tr>\n",
       "      <th>2</th>\n",
       "      <td>s100</td>\n",
       "      <td>3 Heroines</td>\n",
       "      <td>three indonesian women break records by becomi...</td>\n",
       "    </tr>\n",
       "    <tr>\n",
       "      <th>3</th>\n",
       "      <td>s1000</td>\n",
       "      <td>Blue Mountain State: The Rise of Thadland</td>\n",
       "      <td>new nfl star thad buys his old teammates' belo...</td>\n",
       "    </tr>\n",
       "    <tr>\n",
       "      <th>4</th>\n",
       "      <td>s1001</td>\n",
       "      <td>Blue Planet II</td>\n",
       "      <td>this sequel to the award-winning nature series...</td>\n",
       "    </tr>\n",
       "  </tbody>\n",
       "</table>\n",
       "</div>"
      ],
      "text/plain": [
       "  show_id                                      title  \\\n",
       "0      s1                                         3%   \n",
       "1     s10                                       1920   \n",
       "2    s100                                 3 Heroines   \n",
       "3   s1000  Blue Mountain State: The Rise of Thadland   \n",
       "4   s1001                             Blue Planet II   \n",
       "\n",
       "                                                tags  \n",
       "0  in a future where the elite inhabit an island ...  \n",
       "1  an architect and his wife move into a castle t...  \n",
       "2  three indonesian women break records by becomi...  \n",
       "3  new nfl star thad buys his old teammates' belo...  \n",
       "4  this sequel to the award-winning nature series...  "
      ]
     },
     "execution_count": 15,
     "metadata": {},
     "output_type": "execute_result"
    }
   ],
   "source": [
    "movies.head()"
   ]
  },
  {
   "cell_type": "code",
   "execution_count": 16,
   "id": "10d5b49d",
   "metadata": {},
   "outputs": [],
   "source": [
    "movies.title = movies.title.apply((lambda x: x.lower()))"
   ]
  },
  {
   "cell_type": "code",
   "execution_count": 17,
   "id": "581c2ceb",
   "metadata": {},
   "outputs": [],
   "source": [
    "from sklearn.feature_extraction.text import CountVectorizer"
   ]
  },
  {
   "cell_type": "code",
   "execution_count": 18,
   "id": "8e2d309e",
   "metadata": {},
   "outputs": [],
   "source": [
    "cv = CountVectorizer(max_features=movies.title.nunique(),stop_words='english')"
   ]
  },
  {
   "cell_type": "code",
   "execution_count": 19,
   "id": "d9341896",
   "metadata": {},
   "outputs": [],
   "source": [
    "vector = cv.fit_transform(movies.tags).toarray()"
   ]
  },
  {
   "cell_type": "code",
   "execution_count": 20,
   "id": "14f3dec4",
   "metadata": {},
   "outputs": [],
   "source": [
    "from sklearn.metrics.pairwise import cosine_similarity"
   ]
  },
  {
   "cell_type": "code",
   "execution_count": 21,
   "id": "71005cd0",
   "metadata": {},
   "outputs": [],
   "source": [
    "similarity = cosine_similarity(vector)"
   ]
  },
  {
   "cell_type": "code",
   "execution_count": 28,
   "id": "0dc59008",
   "metadata": {},
   "outputs": [],
   "source": [
    "def recommend(movie,n):\n",
    "    print(movie.title().center(50,'_'))\n",
    "    index = movies[movies.title == movie].index[0]\n",
    "    \n",
    "    distances = sorted(list(enumerate(similarity[index])),reverse = True,key = lambda x: x[1])\n",
    "    \n",
    "    movies['similarity'] = similarity[index]\n",
    "    \n",
    "    for j,i in enumerate(distances[1:n],start = 1):\n",
    "        print(f'{j} ->\\t{movies.iloc[i[0]].title.title()}\\nType: {newdf.iloc[i[0]].type.title()}\\nSimilarity: {round(movies.iloc[i[0]].similarity,2)}\\n')"
   ]
  },
  {
   "cell_type": "code",
   "execution_count": 29,
   "id": "6ec0a876",
   "metadata": {},
   "outputs": [],
   "source": [
    "def choice():\n",
    "    choice = input(\"\\nPress any key to contine or press 'e' to exit: \")\n",
    "    print('\\n')\n",
    "    if choice.lower().strip() == 'e':\n",
    "        return False\n",
    "    return True"
   ]
  },
  {
   "cell_type": "code",
   "execution_count": 30,
   "id": "276a208d",
   "metadata": {
    "scrolled": false
   },
   "outputs": [
    {
     "name": "stdout",
     "output_type": "stream",
     "text": [
      "\n",
      "Enter the movie/tv name: narcos\n",
      "Number of similarity: 5\n",
      "\n",
      "\n",
      "______________________Narcos______________________\n",
      "1 ->\tEl Chapo\n",
      "Type: Tv Show\n",
      "Similarity: 0.44\n",
      "\n",
      "2 ->\tNarcos: Mexico\n",
      "Type: Tv Show\n",
      "Similarity: 0.44\n",
      "\n",
      "3 ->\tBad Blood\n",
      "Type: Tv Show\n",
      "Similarity: 0.33\n",
      "\n",
      "4 ->\tSpartacus\n",
      "Type: Tv Show\n",
      "Similarity: 0.33\n",
      "\n",
      "5 ->\tEl Cartel\n",
      "Type: Tv Show\n",
      "Similarity: 0.32\n",
      "\n",
      "\n",
      "Press any key to contine or press 'e' to exit: \n",
      "\n",
      "\n",
      "\n",
      "Enter the movie/tv name: bird box\n",
      "Number of similarity: 5\n",
      "\n",
      "\n",
      "_____________________Bird Box_____________________\n",
      "1 ->\tEquals\n",
      "Type: Movie\n",
      "Similarity: 0.31\n",
      "\n",
      "2 ->\tApollo 18\n",
      "Type: Movie\n",
      "Similarity: 0.29\n",
      "\n",
      "3 ->\tThe Lake House\n",
      "Type: Movie\n",
      "Similarity: 0.28\n",
      "\n",
      "4 ->\tSweetheart\n",
      "Type: Movie\n",
      "Similarity: 0.28\n",
      "\n",
      "5 ->\tA Boy Called Po\n",
      "Type: Movie\n",
      "Similarity: 0.27\n",
      "\n",
      "\n",
      "Press any key to contine or press 'e' to exit: e\n",
      "\n",
      "\n"
     ]
    }
   ],
   "source": [
    "while True:\n",
    "    try:\n",
    "        title = input(\"\\nEnter the movie/tv name: \").lower().strip()\n",
    "        n = int(input(\"Number of similarity: \"))\n",
    "        print('\\n')\n",
    "        if n >movies.title.nunique():\n",
    "            print(f\"Number of similarity max value is {movies.title.nunique()} !\\n\")\n",
    "            continue\n",
    "        recommend(movie = title,n = n+1)\n",
    "    except Exception as ex:\n",
    "        print(\"Invalid movie name or number of similarity!\")\n",
    "        \n",
    "        if choice() == False:\n",
    "            break\n",
    "    else:\n",
    "        if choice() == False:\n",
    "            break"
   ]
  }
 ],
 "metadata": {
  "kernelspec": {
   "display_name": "Python 3 (ipykernel)",
   "language": "python",
   "name": "python3"
  },
  "language_info": {
   "codemirror_mode": {
    "name": "ipython",
    "version": 3
   },
   "file_extension": ".py",
   "mimetype": "text/x-python",
   "name": "python",
   "nbconvert_exporter": "python",
   "pygments_lexer": "ipython3",
   "version": "3.9.12"
  }
 },
 "nbformat": 4,
 "nbformat_minor": 5
}
